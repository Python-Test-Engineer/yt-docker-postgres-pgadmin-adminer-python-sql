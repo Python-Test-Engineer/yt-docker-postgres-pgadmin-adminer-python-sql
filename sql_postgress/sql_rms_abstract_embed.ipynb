{
 "cells": [
  {
   "cell_type": "code",
   "execution_count": 1,
   "metadata": {},
   "outputs": [
    {
     "name": "stdout",
     "output_type": "stream",
     "text": [
      "Requirement already satisfied: psycopg2-binary in c:\\users\\mrcra\\appdata\\local\\packages\\pythonsoftwarefoundation.python.3.10_qbz5n2kfra8p0\\localcache\\local-packages\\python310\\site-packages (2.9.7)\n",
      "Requirement already satisfied: pgvector in c:\\users\\mrcra\\appdata\\local\\packages\\pythonsoftwarefoundation.python.3.10_qbz5n2kfra8p0\\localcache\\local-packages\\python310\\site-packages (0.2.2)\n",
      "Requirement already satisfied: numpy in c:\\users\\mrcra\\appdata\\local\\packages\\pythonsoftwarefoundation.python.3.10_qbz5n2kfra8p0\\localcache\\local-packages\\python310\\site-packages (from pgvector) (1.25.2)\n"
     ]
    },
    {
     "name": "stderr",
     "output_type": "stream",
     "text": [
      "WARNING: Ignoring invalid distribution -rotobuf (c:\\users\\mrcra\\appdata\\local\\packages\\pythonsoftwarefoundation.python.3.10_qbz5n2kfra8p0\\localcache\\local-packages\\python310\\site-packages)\n",
      "WARNING: Ignoring invalid distribution -rotobuf (c:\\users\\mrcra\\appdata\\local\\packages\\pythonsoftwarefoundation.python.3.10_qbz5n2kfra8p0\\localcache\\local-packages\\python310\\site-packages)\n"
     ]
    }
   ],
   "source": [
    "!pip install psycopg2-binary pgvector"
   ]
  },
  {
   "cell_type": "code",
   "execution_count": 2,
   "metadata": {},
   "outputs": [],
   "source": [
    "import psycopg2\n",
    "from langchain.document_loaders import TextLoader\n",
    "from langchain.text_splitter import RecursiveCharacterTextSplitter\n",
    "from langchain.embeddings import OpenAIEmbeddings\n",
    "from langchain.vectorstores.pgvector import PGVector\n",
    "from dotenv import load_dotenv"
   ]
  },
  {
   "cell_type": "code",
   "execution_count": 3,
   "metadata": {},
   "outputs": [
    {
     "data": {
      "text/plain": [
       "True"
      ]
     },
     "execution_count": 3,
     "metadata": {},
     "output_type": "execute_result"
    }
   ],
   "source": [
    "load_dotenv()"
   ]
  },
  {
   "cell_type": "code",
   "execution_count": 4,
   "metadata": {},
   "outputs": [
    {
     "name": "stdout",
     "output_type": "stream",
     "text": [
      "Conn: <connection object at 0x000002084F426F00; dsn: 'user=postgres password=xxx dbname=postgres host=host.docker.internal', closed: 0>\n"
     ]
    }
   ],
   "source": [
    "conn = psycopg2.connect(\n",
    "    database=\"postgres\",\n",
    "    user=\"postgres\",\n",
    "    password=\"postgres\",\n",
    "    host=\"host.docker.internal\",\n",
    ")\n",
    "if conn:\n",
    "    print(f\"Conn: {conn}\")\n",
    "else:\n",
    "    print(\"NO CONNECTION\")\n",
    "# Open cursor to perform database operation\n",
    "cur = conn.cursor()\n"
   ]
  },
  {
   "cell_type": "code",
   "execution_count": 5,
   "metadata": {},
   "outputs": [
    {
     "name": "stdout",
     "output_type": "stream",
     "text": [
      "SQL: SELECT id, abstract FROM public.rms_abstract ORDER BY id ASC \n",
      "============\n",
      "(1, 'Rhabdomyosarcoma (RMS) is the most common soft tissue sarcoma in children and represents a high-grade neoplasm of skeletal myoblast-like cells. Decades of clinical and basic research have gradually improved our understanding of the pathophysiology of RMS and helped to optimize clinical care. The two major subtypes of RMS, originally characterized on the basis of light microscopic features, are driven by fundamentally different molecular mechanisms and pose distinct clinical challenges. Curative therapy depends on control of the primary tumour, which can arise at many distinct anatomical sites, as well as controlling disseminated disease that is known or assumed to be present in every case. Sophisticated risk stratification for children with RMS incorporates various clinical, pathological and molecular features, and that information is used to guide the application of multifaceted therapy. Such therapy has historically included cytotoxic chemotherapy as well as surgery, ionizing radiation or both. This Primer describes our current understanding of RMS epidemiology, disease susceptibility factors, disease mechanisms and elements of clinical care, including diagnostics, risk-based care of newly diagnosed and relapsed disease and the prevention and management of late effects in survivors. We also outline potential opportunities to further translate new biological insights into improved clinical outcomes.')\n",
      "(2, '')\n",
      "(3, '')\n",
      "(4, '')\n",
      "(5, '')\n",
      "(6, '')\n",
      "(7, '')\n",
      "(8, '')\n",
      "(9, '')\n",
      "(10, '')\n",
      "(11, '')\n",
      "(12, '')\n",
      "(13, '')\n",
      "(14, '')\n",
      "(15, '')\n",
      "(16, '')\n",
      "(17, '')\n",
      "(18, '')\n",
      "(19, '')\n",
      "(20, '')\n",
      "============\n"
     ]
    }
   ],
   "source": [
    "sql = \"SELECT id, abstract FROM public.rms_abstract ORDER BY id ASC \"\n",
    "\n",
    "cur.execute(sql)\n",
    "print(f\"SQL: {sql}\")\n",
    "print(\"============\")\n",
    "rows = cur.fetchall()\n",
    "if not len(rows):\n",
    "    print(\"empty\")\n",
    "for row in rows:\n",
    "    print(row)\n",
    "print(\"============\")\n",
    "\n"
   ]
  },
  {
   "cell_type": "code",
   "execution_count": null,
   "metadata": {},
   "outputs": [],
   "source": [
    "embeddings = OpenAIEmbeddings()\n",
    "\n",
    "vector = embeddings.embed_query(\"Testing the embedding model\")\n",
    "\n",
    "print(len(vector))  # 1536 dimensions"
   ]
  },
  {
   "cell_type": "code",
   "execution_count": null,
   "metadata": {},
   "outputs": [],
   "source": [
    "# Close communications with database\n",
    "cur.close()"
   ]
  },
  {
   "cell_type": "code",
   "execution_count": null,
   "metadata": {},
   "outputs": [],
   "source": [
    "# vector"
   ]
  }
 ],
 "metadata": {
  "kernelspec": {
   "display_name": "Python 3",
   "language": "python",
   "name": "python3"
  },
  "language_info": {
   "codemirror_mode": {
    "name": "ipython",
    "version": 3
   },
   "file_extension": ".py",
   "mimetype": "text/x-python",
   "name": "python",
   "nbconvert_exporter": "python",
   "pygments_lexer": "ipython3",
   "version": "3.10.11"
  },
  "orig_nbformat": 4
 },
 "nbformat": 4,
 "nbformat_minor": 2
}
